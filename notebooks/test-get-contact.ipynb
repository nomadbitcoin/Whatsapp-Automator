{
 "cells": [
  {
   "cell_type": "code",
   "execution_count": 1,
   "metadata": {},
   "outputs": [],
   "source": [
    "from selenium.webdriver.common.keys import Keys \n",
    "from selenium.webdriver.common.by import By\n",
    "from selenium.webdriver import ActionChains\n",
    "from time import sleep\n",
    "from datetime import datetime\n",
    "import pytz\n",
    "import json"
   ]
  },
  {
   "cell_type": "code",
   "execution_count": 3,
   "metadata": {},
   "outputs": [
    {
     "name": "stdout",
     "output_type": "stream",
     "text": [
      "\u001b[32mStarting WhatsApp Web test...\u001b[0m\n"
     ]
    }
   ],
   "source": [
    "import sys\n",
    "from pathlib import Path\n",
    "sys.path.append(str(Path.cwd().parent))  # Add parent directory to Python path\n",
    "from driver import Bot\n",
    "\n",
    "from colorama import Fore, Style\n",
    "from selenium.webdriver.common.keys import Keys \n",
    "\n",
    "# Initialize the bot\n",
    "bot = Bot(session_name='anderson')\n",
    "\n",
    "# Test login and chat counting functionality\n",
    "print(Fore.GREEN + \"Starting WhatsApp Web test...\" + Style.RESET_ALL)"
   ]
  },
  {
   "cell_type": "code",
   "execution_count": 4,
   "metadata": {},
   "outputs": [
    {
     "name": "stdout",
     "output_type": "stream",
     "text": [
      "Attempting to load WhatsApp Web...\n",
      "\u001b[32mLogged in successfully!\u001b[0m\n"
     ]
    }
   ],
   "source": [
    "bot.login('+55')"
   ]
  },
  {
   "cell_type": "code",
   "execution_count": 9,
   "metadata": {},
   "outputs": [
    {
     "name": "stdout",
     "output_type": "stream",
     "text": [
      "name: Equipe Contador Direto\n",
      "getting messages from Equipe Contador Direto\n",
      "phone_number: +55 11 91666-9205\n",
      "name: Gabriel Rezende\n",
      "getting messages from Gabriel Rezende\n",
      "not business\n",
      "phone_number: +55 11 96396-3442\n",
      "name: Praia Capão 21/12 22/12\n",
      "getting messages from Praia Capão 21/12 22/12\n",
      "not analize group\n",
      "name: Amilcar Zanette @amkzanette\n",
      "getting messages from Amilcar Zanette @amkzanette\n",
      "not business\n",
      "phone_number: +55 51 9161-8480\n",
      "name: Let’s turn the bottle\n",
      "getting messages from Let’s turn the bottle\n",
      "not analize group\n",
      "name: Machado Surf Treino!!!\n",
      "getting messages from Machado Surf Treino!!!\n",
      "not analize group\n",
      "name: Familia os 4\n",
      "getting messages from Familia os 4\n",
      "not analize group\n",
      "name: Zucker Parish Family\n",
      "getting messages from Zucker Parish Family\n",
      "not analize group\n",
      "name: Bel Isabel Faillace\n",
      "getting messages from Bel Isabel Faillace\n",
      "not business\n",
      "phone_number: +55 48 9656-5530\n",
      "name: Eu 51\n",
      "getting messages from Eu 51\n",
      "phone_number: +55 51 9347-3675\n",
      "name: Marcio Barbosa (Casa 63 / Despachante)\n",
      "getting messages from Marcio Barbosa (Casa 63 / Despachante)\n",
      "not business\n",
      "phone_number: +55 13 99770-9056\n",
      "name: Renati (Dinda)\n",
      "getting messages from Renati (Dinda)\n",
      "not business\n",
      "phone_number: +55 51 9842-8688\n"
     ]
    },
    {
     "ename": "KeyboardInterrupt",
     "evalue": "",
     "output_type": "error",
     "traceback": [
      "\u001b[0;31m---------------------------------------------------------------------------\u001b[0m",
      "\u001b[0;31mKeyboardInterrupt\u001b[0m                         Traceback (most recent call last)",
      "Cell \u001b[0;32mIn[9], line 30\u001b[0m\n\u001b[1;32m     27\u001b[0m \u001b[38;5;28;01mfor\u001b[39;00m chat \u001b[38;5;129;01min\u001b[39;00m chat_items:\n\u001b[1;32m     28\u001b[0m     \u001b[38;5;28;01mtry\u001b[39;00m:\n\u001b[1;32m     29\u001b[0m         \u001b[38;5;66;03m# Captura o nome do chat e outras informações\u001b[39;00m\n\u001b[0;32m---> 30\u001b[0m         name \u001b[38;5;241m=\u001b[39m \u001b[43mchat\u001b[49m\u001b[38;5;241m.\u001b[39mfind_element(By\u001b[38;5;241m.\u001b[39mXPATH, \u001b[38;5;124m\"\u001b[39m\u001b[38;5;124m.//span[@dir=\u001b[39m\u001b[38;5;124m'\u001b[39m\u001b[38;5;124mauto\u001b[39m\u001b[38;5;124m'\u001b[39m\u001b[38;5;124m]\u001b[39m\u001b[38;5;124m\"\u001b[39m)\u001b[38;5;241m.\u001b[39mtext\n\u001b[1;32m     31\u001b[0m         \u001b[38;5;28mprint\u001b[39m(\u001b[38;5;124mf\u001b[39m\u001b[38;5;124m'\u001b[39m\u001b[38;5;124mname: \u001b[39m\u001b[38;5;132;01m{\u001b[39;00mname\u001b[38;5;132;01m}\u001b[39;00m\u001b[38;5;124m'\u001b[39m)\n\u001b[1;32m     32\u001b[0m         \u001b[38;5;66;03m# Adicionar informações únicas ao conjunto\u001b[39;00m\n",
      "File \u001b[0;32m_pydevd_bundle\\\\pydevd_cython.pyx:1697\u001b[0m, in \u001b[0;36m_pydevd_bundle.pydevd_cython.SafeCallWrapper.__call__\u001b[0;34m()\u001b[0m\n",
      "File \u001b[0;32m_pydevd_bundle\\\\pydevd_cython.pyx:634\u001b[0m, in \u001b[0;36m_pydevd_bundle.pydevd_cython.PyDBFrame.trace_dispatch\u001b[0;34m()\u001b[0m\n",
      "File \u001b[0;32m_pydevd_bundle\\\\pydevd_cython.pyx:1112\u001b[0m, in \u001b[0;36m_pydevd_bundle.pydevd_cython.PyDBFrame.trace_dispatch\u001b[0;34m()\u001b[0m\n",
      "File \u001b[0;32m_pydevd_bundle\\\\pydevd_cython.pyx:1090\u001b[0m, in \u001b[0;36m_pydevd_bundle.pydevd_cython.PyDBFrame.trace_dispatch\u001b[0;34m()\u001b[0m\n",
      "File \u001b[0;32m_pydevd_bundle\\\\pydevd_cython.pyx:494\u001b[0m, in \u001b[0;36m_pydevd_bundle.pydevd_cython.PyDBFrame.do_wait_suspend\u001b[0;34m()\u001b[0m\n",
      "File \u001b[0;32m~/repos/Whatsapp-Automator/venv/lib/python3.11/site-packages/debugpy/_vendored/pydevd/pydevd.py:2185\u001b[0m, in \u001b[0;36mPyDB.do_wait_suspend\u001b[0;34m(self, thread, frame, event, arg, exception_type)\u001b[0m\n\u001b[1;32m   2182\u001b[0m             from_this_thread\u001b[38;5;241m.\u001b[39mappend(frame_custom_thread_id)\n\u001b[1;32m   2184\u001b[0m     \u001b[38;5;28;01mwith\u001b[39;00m \u001b[38;5;28mself\u001b[39m\u001b[38;5;241m.\u001b[39m_threads_suspended_single_notification\u001b[38;5;241m.\u001b[39mnotify_thread_suspended(thread_id, thread, stop_reason):\n\u001b[0;32m-> 2185\u001b[0m         keep_suspended \u001b[38;5;241m=\u001b[39m \u001b[38;5;28;43mself\u001b[39;49m\u001b[38;5;241;43m.\u001b[39;49m\u001b[43m_do_wait_suspend\u001b[49m\u001b[43m(\u001b[49m\u001b[43mthread\u001b[49m\u001b[43m,\u001b[49m\u001b[43m \u001b[49m\u001b[43mframe\u001b[49m\u001b[43m,\u001b[49m\u001b[43m \u001b[49m\u001b[43mevent\u001b[49m\u001b[43m,\u001b[49m\u001b[43m \u001b[49m\u001b[43marg\u001b[49m\u001b[43m,\u001b[49m\u001b[43m \u001b[49m\u001b[43mtrace_suspend_type\u001b[49m\u001b[43m,\u001b[49m\u001b[43m \u001b[49m\u001b[43mfrom_this_thread\u001b[49m\u001b[43m,\u001b[49m\u001b[43m \u001b[49m\u001b[43mframes_tracker\u001b[49m\u001b[43m)\u001b[49m\n\u001b[1;32m   2187\u001b[0m frames_list \u001b[38;5;241m=\u001b[39m \u001b[38;5;28;01mNone\u001b[39;00m\n\u001b[1;32m   2189\u001b[0m \u001b[38;5;28;01mif\u001b[39;00m keep_suspended:\n\u001b[1;32m   2190\u001b[0m     \u001b[38;5;66;03m# This means that we should pause again after a set next statement.\u001b[39;00m\n",
      "File \u001b[0;32m~/repos/Whatsapp-Automator/venv/lib/python3.11/site-packages/debugpy/_vendored/pydevd/pydevd.py:2254\u001b[0m, in \u001b[0;36mPyDB._do_wait_suspend\u001b[0;34m(self, thread, frame, event, arg, trace_suspend_type, from_this_thread, frames_tracker)\u001b[0m\n\u001b[1;32m   2251\u001b[0m                 queue\u001b[38;5;241m.\u001b[39mput(internal_cmd)\n\u001b[1;32m   2252\u001b[0m                 wait_timeout \u001b[38;5;241m=\u001b[39m TIMEOUT_FAST\n\u001b[0;32m-> 2254\u001b[0m         \u001b[43mnotify_event\u001b[49m\u001b[38;5;241;43m.\u001b[39;49m\u001b[43mwait\u001b[49m\u001b[43m(\u001b[49m\u001b[43mwait_timeout\u001b[49m\u001b[43m)\u001b[49m\n\u001b[1;32m   2255\u001b[0m         notify_event\u001b[38;5;241m.\u001b[39mclear()\n\u001b[1;32m   2257\u001b[0m \u001b[38;5;28;01mfinally\u001b[39;00m:\n",
      "File \u001b[0;32m/opt/homebrew/Cellar/python@3.11/3.11.11/Frameworks/Python.framework/Versions/3.11/lib/python3.11/threading.py:629\u001b[0m, in \u001b[0;36mEvent.wait\u001b[0;34m(self, timeout)\u001b[0m\n\u001b[1;32m    627\u001b[0m signaled \u001b[38;5;241m=\u001b[39m \u001b[38;5;28mself\u001b[39m\u001b[38;5;241m.\u001b[39m_flag\n\u001b[1;32m    628\u001b[0m \u001b[38;5;28;01mif\u001b[39;00m \u001b[38;5;129;01mnot\u001b[39;00m signaled:\n\u001b[0;32m--> 629\u001b[0m     signaled \u001b[38;5;241m=\u001b[39m \u001b[38;5;28;43mself\u001b[39;49m\u001b[38;5;241;43m.\u001b[39;49m\u001b[43m_cond\u001b[49m\u001b[38;5;241;43m.\u001b[39;49m\u001b[43mwait\u001b[49m\u001b[43m(\u001b[49m\u001b[43mtimeout\u001b[49m\u001b[43m)\u001b[49m\n\u001b[1;32m    630\u001b[0m \u001b[38;5;28;01mreturn\u001b[39;00m signaled\n",
      "File \u001b[0;32m/opt/homebrew/Cellar/python@3.11/3.11.11/Frameworks/Python.framework/Versions/3.11/lib/python3.11/threading.py:331\u001b[0m, in \u001b[0;36mCondition.wait\u001b[0;34m(self, timeout)\u001b[0m\n\u001b[1;32m    329\u001b[0m \u001b[38;5;28;01melse\u001b[39;00m:\n\u001b[1;32m    330\u001b[0m     \u001b[38;5;28;01mif\u001b[39;00m timeout \u001b[38;5;241m>\u001b[39m \u001b[38;5;241m0\u001b[39m:\n\u001b[0;32m--> 331\u001b[0m         gotit \u001b[38;5;241m=\u001b[39m \u001b[43mwaiter\u001b[49m\u001b[38;5;241;43m.\u001b[39;49m\u001b[43macquire\u001b[49m\u001b[43m(\u001b[49m\u001b[38;5;28;43;01mTrue\u001b[39;49;00m\u001b[43m,\u001b[49m\u001b[43m \u001b[49m\u001b[43mtimeout\u001b[49m\u001b[43m)\u001b[49m\n\u001b[1;32m    332\u001b[0m     \u001b[38;5;28;01melse\u001b[39;00m:\n\u001b[1;32m    333\u001b[0m         gotit \u001b[38;5;241m=\u001b[39m waiter\u001b[38;5;241m.\u001b[39macquire(\u001b[38;5;28;01mFalse\u001b[39;00m)\n",
      "\u001b[0;31mKeyboardInterrupt\u001b[0m: "
     ]
    }
   ],
   "source": [
    "\n",
    "from config import GROUP_ANALYZE\n",
    "\n",
    "\n",
    "all_chats = set()  # Usar set para evitar duplicatas\n",
    "last_seen_name = None  # Nome do último item visível na lista\n",
    "# chat_list_element = bot.driver.find_element(By.ID, \"pane-side\")\n",
    "\n",
    "while True:\n",
    "    # Encontrar os chats visíveis\n",
    "    chat_items = bot.driver.find_elements(By.XPATH, \"//div[@aria-label='Lista de conversas']//div[@role='listitem']\")\n",
    "    if len(chat_items) == 0:\n",
    "        chat_items = bot.driver.find_elements(\n",
    "            By.XPATH, \"//div[@aria-label='Chat list']//div[@role='listitem']\")\n",
    "\n",
    "    # chat_items = bot.driver.find_elements(By.CLASS_NAME, \"x10l6tqk\")\n",
    "    # new_last_seen_name = None\n",
    "    \n",
    "    # se todos os chats já foram coletados, sair do loop, checa todos os no\n",
    "    already_collected_chats = []\n",
    "    # para teste somente 1 chat\n",
    "    # chat_items = [chat_items[0], chat_items[1], chat_items[2],\n",
    "    #                chat_items[3], chat_items[4], chat_items[5]]\n",
    "    # chat_items = [chat_items[0],chat_items[5]]\n",
    "    for chat in chat_items:\n",
    "        try:\n",
    "            # Captura o nome do chat e outras informações\n",
    "            name = chat.find_element(By.XPATH, \".//span[@dir='auto']\").text\n",
    "            print(f'name: {name}')\n",
    "            # Adicionar informações únicas ao conjunto\n",
    "            if name not in all_chats:\n",
    "                all_chats.add(f\"{name}\")\n",
    "                chat.click()\n",
    "                sleep(2)\n",
    "                # get all messages and save in a file\n",
    "                print(f'getting messages from {name}')\n",
    "                # messages = get_all_messages()\n",
    "\n",
    "                # Click on Profile details\n",
    "                profile_details = bot.driver.find_element(\n",
    "                    By.XPATH, \"//div[@title='Profile details']\")\n",
    "                profile_details.click()\n",
    "                sleep(2)\n",
    "                \n",
    "                # Check if the chat is a group\n",
    "                group_text = bot.driver.find_elements(\n",
    "                    By.XPATH,\n",
    "                    \"//section[contains(@class, 'x2lah0s')]//span[contains(text(), 'Group')]\"\n",
    "                )\n",
    "                if len(group_text) > 0:\n",
    "                    if GROUP_ANALYZE:\n",
    "                        # Do something\n",
    "                        print(f'group_text: {group_text[0].text}')\n",
    "                    else:\n",
    "                        print(f'not analize group')\n",
    "                        # sair do loop for e pular para o proximo chat\n",
    "                        continue\n",
    "                \n",
    "                phone_number = None\n",
    "                # Check if the chat is a business\n",
    "                business_text = bot.driver.find_elements(\n",
    "                    By.XPATH,\n",
    "                    \"//div[contains(@class, 'x1iyjqo2') and contains(text(), 'This is a business account')]\"\n",
    "                )\n",
    "                if len(business_text) > 0:\n",
    "                    phone_element = bot.driver.find_elements(\n",
    "                        By.XPATH,\n",
    "                        \"//div[@class='xkhd6sd  _ajxt']\"\n",
    "                    )\n",
    "                    \n",
    "                else:\n",
    "                    print(f'not business')\n",
    "                    phone_element = bot.driver.find_elements(\n",
    "                        By.XPATH,\n",
    "                        \"//section[contains(@class, 'x2lah0s')]//span[@class='x1jchvi3 x1fcty0u x40yjcy']\"\n",
    "                    )\n",
    "                    \n",
    "                if len(phone_element) > 0:\n",
    "                    phone_number = phone_element[0].text\n",
    "                    print(f'phone_number: {phone_number}')\n",
    "                    \n",
    "                # close profile details\n",
    "                close_button = bot.driver.find_elements(\n",
    "                    By.XPATH,\n",
    "                    \"//span[@data-icon='x']\"\n",
    "                )\n",
    "                if len(close_button) > 0:\n",
    "                    close_button[0].click()\n",
    "                    sleep(2)\n",
    "                else:\n",
    "                    print(f'close_button not found')\n",
    "                        \n",
    "           \n",
    "        except Exception as e:\n",
    "            print(f\"Erro ao processar um chat: {e}\")\n",
    "    break\n",
    "\n",
    "print(all_chats)\n",
    "print(len(all_chats))"
   ]
  },
  {
   "cell_type": "code",
   "execution_count": 5,
   "metadata": {},
   "outputs": [],
   "source": [
    "# SEARCH THE CONTACT\n",
    "message_input = bot.driver.find_element(\n",
    "    By.XPATH, \"//div[contains(@class, 'x1hx0egp')][@role='textbox']\")\n",
    "message_input.click()\n",
    "first_contact = next(iter(all_chats))\n",
    "message_input.send_keys(first_contact)\n",
    "message_input.send_keys(Keys.ENTER)\n",
    "sleep(2)\n"
   ]
  }
 ],
 "metadata": {
  "kernelspec": {
   "display_name": "tokyo",
   "language": "python",
   "name": "python3"
  },
  "language_info": {
   "codemirror_mode": {
    "name": "ipython",
    "version": 3
   },
   "file_extension": ".py",
   "mimetype": "text/x-python",
   "name": "python",
   "nbconvert_exporter": "python",
   "pygments_lexer": "ipython3",
   "version": "3.11.11"
  }
 },
 "nbformat": 4,
 "nbformat_minor": 2
}
